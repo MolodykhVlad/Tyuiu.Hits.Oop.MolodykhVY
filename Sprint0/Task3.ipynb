{
 "cells": [
  {
   "cell_type": "markdown",
   "metadata": {},
   "source": [
    "<h1 style=\"color:DodgerBlue\">Индивидальный проект</h1>"
   ]
  },
  {
   "cell_type": "markdown",
   "metadata": {},
   "source": [
    "<h2 style=\"color:DodgerBlue\">Название проекта:</h2>\n",
    "\n",
    "----\n",
    "\n",
    "### Вариант задания 14 \n"
   ]
  },
  {
   "cell_type": "markdown",
   "metadata": {},
   "source": [
    "<h2 style=\"color:DodgerBlue\">Описание проекта:</h2>\n",
    "\n",
    "----\n",
    "\n",
    "Создать базовый класс Supplier в C#, который будет представлять информацию о \n",
    "поставщиках товаров или услуг. На основе этого класса разработать 2-3 \n",
    "производных класса, демонстрирующих принципы наследования и полиморфизма. \n",
    "В каждом из классов должны быть реализованы новые атрибуты и методы, а также \n",
    "переопределены некоторые методы базового класса для демонстрации \n",
    "полиморфизма.\n",
    "Требования к базовому классу Supplier:\n",
    "• Атрибуты: ID поставщика (SupplierId), Название компании (CompanyName), \n",
    "Тип продукции (ProductType).\n",
    "• Методы:\n",
    "o GetCompanyInfo(): метод для получения информации о компании.\n",
    "o ProvideQuote(): метод для предоставления котировки на товары или \n",
    "услуги.\n",
    "o SubmitOrder(): метод для отправки заказа поставщику.\n",
    "Требования к производным классам:\n",
    "1. Производитель (Manufacturer): Должен содержать дополнительные атрибуты, \n",
    "такие как Год основания (FoundedYear). Метод ProvideQuote() должен быть \n",
    "переопределен для включения информации о годе основания компании в \n",
    "котировку.\n",
    "2. Ритейлер (Retailer): Должен содержать дополнительные атрибуты, такие как \n",
    "Расположение магазина (StoreLocation). Метод SubmitOrder() должен быть \n",
    "переопределен для добавления информации о расположении магазина при \n",
    "отправке заказа.\n",
    "3. Импортер (Importer) (если требуется третий класс): Должен содержать \n",
    "дополнительные атрибуты, такие как Страна происхождения товара \n",
    "(OriginCountry). Метод GetCompanyInfo() должен быть переопределен для \n",
    "отображения страны происхождения товара вместе с остальной \n",
    "информацией о компании.\n",
    "\n"
   ]
  },
  {
   "cell_type": "markdown",
   "metadata": {},
   "source": [
    "<h2 style=\"color:DodgerBlue\">Реализация:</h2>\n",
    "\n",
    "----"
   ]
  },
  {
   "cell_type": "code",
   "execution_count": 2,
   "metadata": {
    "dotnet_interactive": {
     "language": "csharp"
    },
    "polyglot_notebook": {
     "kernelName": "csharp"
    }
   },
   "outputs": [],
   "source": []
  }
 ],
 "metadata": {
  "kernelspec": {
   "display_name": ".NET (C#)",
   "language": "C#",
   "name": ".net-csharp"
  },
  "polyglot_notebook": {
   "kernelInfo": {
    "defaultKernelName": "csharp",
    "items": [
     {
      "aliases": [],
      "languageName": "csharp",
      "name": "csharp"
     }
    ]
   }
  }
 },
 "nbformat": 4,
 "nbformat_minor": 2
}
