{
 "cells": [
  {
   "cell_type": "markdown",
   "metadata": {},
   "source": [
    "<h1 style=\"color:DodgerBlue\">Индивидальный проект</h1>"
   ]
  },
  {
   "cell_type": "markdown",
   "metadata": {},
   "source": [
    "<h2 style=\"color:DodgerBlue\">Название проекта:</h2>\n",
    "\n",
    "----\n",
    "\n",
    "### Вариант задания 14 \n"
   ]
  },
  {
   "cell_type": "markdown",
   "metadata": {},
   "source": [
    "<h2 style=\"color:DodgerBlue\">Описание проекта:</h2>\n",
    "\n",
    "----\n",
    "\n",
    "Создать базовый класс Supplier в C#, который будет представлять информацию о \n",
    "поставщиках товаров или услуг. На основе этого класса разработать 2-3 \n",
    "производных класса, демонстрирующих принципы наследования и полиморфизма. \n",
    "В каждом из классов должны быть реализованы новые атрибуты и методы, а также \n",
    "переопределены некоторые методы базового класса для демонстрации \n",
    "полиморфизма.\n",
    "Требования к базовому классу Supplier:\n",
    "• Атрибуты: ID поставщика (SupplierId), Название компании (CompanyName), \n",
    "Тип продукции (ProductType).\n",
    "• Методы:\n",
    "o GetCompanyInfo(): метод для получения информации о компании.\n",
    "o ProvideQuote(): метод для предоставления котировки на товары или \n",
    "услуги.\n",
    "o SubmitOrder(): метод для отправки заказа поставщику.\n",
    "Требования к производным классам:\n",
    "1. Производитель (Manufacturer): Должен содержать дополнительные атрибуты, \n",
    "такие как Год основания (FoundedYear). Метод ProvideQuote() должен быть \n",
    "переопределен для включения информации о годе основания компании в \n",
    "котировку.\n",
    "2. Ритейлер (Retailer): Должен содержать дополнительные атрибуты, такие как \n",
    "Расположение магазина (StoreLocation). Метод SubmitOrder() должен быть \n",
    "переопределен для добавления информации о расположении магазина при \n",
    "отправке заказа.\n",
    "3. Импортер (Importer) (если требуется третий класс): Должен содержать \n",
    "дополнительные атрибуты, такие как Страна происхождения товара \n",
    "(OriginCountry). Метод GetCompanyInfo() должен быть переопределен для \n",
    "отображения страны происхождения товара вместе с остальной \n",
    "информацией о компании.\n",
    "\n"
   ]
  },
  {
   "cell_type": "markdown",
   "metadata": {},
   "source": [
    "<h2 style=\"color:DodgerBlue\">Реализация:</h2>\n",
    "\n",
    "----"
   ]
  },
  {
   "cell_type": "code",
   "execution_count": 2,
   "metadata": {
    "dotnet_interactive": {
     "language": "csharp"
    },
    "polyglot_notebook": {
     "kernelName": "csharp"
    }
   },
   "outputs": [
    {
     "name": "stdout",
     "output_type": "stream",
     "text": [
      "Котировка от компании Тех Корп, основанной в 1995, на продукцию типа Электроника.\n",
      "ID: 1, Компания: Тех Корп, Тип продукции: Электроника\n",
      "Заказ отправлен поставщику Магазин Одежды из магазина, расположенного по адресу ул. Главная, 123.\n",
      "ID: 2, Компания: Магазин Одежды, Тип продукции: Одежда\n",
      "ID: 3, Компания: Импорт Ко, Тип продукции: Мебель, Страна происхождения: Италия\n",
      "Котировка от компании Импорт Ко на продукцию типа Мебель.\n"
     ]
    }
   ],
   "source": [
    "using System;\n",
    "using System.Collections.Generic;\n",
    "\n",
    "public interface ISupplier\n",
    "{\n",
    "    int SupplierId { get; set; }\n",
    "    string CompanyName { get; set; }\n",
    "    string ProductType { get; set; }\n",
    "\n",
    "    void GetCompanyInfo();\n",
    "    void ProvideQuote();\n",
    "    void SubmitOrder();\n",
    "}\n",
    "\n",
    "public interface IManufacturer : ISupplier\n",
    "{\n",
    "    int FoundedYear { get; set; }\n",
    "}\n",
    "\n",
    "public interface IRetailer : ISupplier\n",
    "{\n",
    "    string StoreLocation { get; set; }\n",
    "}\n",
    "\n",
    "public interface IImporter : ISupplier\n",
    "{\n",
    "    string OriginCountry { get; set; }\n",
    "}\n",
    "\n",
    "public class Supplier : ISupplier\n",
    "{\n",
    "    public int SupplierId { get; set; }\n",
    "    public string CompanyName { get; set; }\n",
    "    public string ProductType { get; set; }\n",
    "\n",
    "    public Supplier(int supplierId, string companyName, string productType)\n",
    "    {\n",
    "        SupplierId = supplierId;\n",
    "        CompanyName = companyName;\n",
    "        ProductType = productType;\n",
    "    }\n",
    "\n",
    "    public virtual void GetCompanyInfo()\n",
    "    {\n",
    "        Console.WriteLine($\"ID: {SupplierId}, Компания: {CompanyName}, Тип продукции: {ProductType}\");\n",
    "    }\n",
    "\n",
    "    public virtual void ProvideQuote()\n",
    "    {\n",
    "        Console.WriteLine($\"Котировка от компании {CompanyName} на продукцию типа {ProductType}.\");\n",
    "    }\n",
    "\n",
    "    public virtual void SubmitOrder()\n",
    "    {\n",
    "        Console.WriteLine($\"Заказ отправлен поставщику {CompanyName}.\");\n",
    "    }\n",
    "}\n",
    "\n",
    "public class Manufacturer : Supplier, IManufacturer\n",
    "{\n",
    "    public int FoundedYear { get; set; }\n",
    "\n",
    "    public Manufacturer(int supplierId, string companyName, string productType, int foundedYear)\n",
    "        : base(supplierId, companyName, productType)\n",
    "    {\n",
    "        FoundedYear = foundedYear;\n",
    "    }\n",
    "\n",
    "    public override void ProvideQuote()\n",
    "    {\n",
    "        Console.WriteLine($\"Котировка от компании {CompanyName}, основанной в {FoundedYear}, на продукцию типа {ProductType}.\");\n",
    "    }\n",
    "}\n",
    "\n",
    "public class Retailer : Supplier, IRetailer\n",
    "{\n",
    "    public string StoreLocation { get; set; }\n",
    "\n",
    "    public Retailer(int supplierId, string companyName, string productType, string storeLocation)\n",
    "        : base(supplierId, companyName, productType)\n",
    "    {\n",
    "        StoreLocation = storeLocation;\n",
    "    }\n",
    "\n",
    "    public override void SubmitOrder()\n",
    "    {\n",
    "        Console.WriteLine($\"Заказ отправлен поставщику {CompanyName} из магазина, расположенного по адресу {StoreLocation}.\");\n",
    "    }\n",
    "}\n",
    "\n",
    "public class Importer : Supplier, IImporter\n",
    "{\n",
    "    public string OriginCountry { get; set; }\n",
    "\n",
    "    public Importer(int supplierId, string companyName, string productType, string originCountry)\n",
    "        : base(supplierId, companyName, productType)\n",
    "    {\n",
    "        OriginCountry = originCountry;\n",
    "    }\n",
    "\n",
    "    public override void GetCompanyInfo()\n",
    "    {\n",
    "        Console.WriteLine($\"ID: {SupplierId}, Компания: {CompanyName}, Тип продукции: {ProductType}, Страна происхождения: {OriginCountry}\");\n",
    "    }\n",
    "}\n",
    "\n",
    "\n",
    "Manufacturer manufacturer = new Manufacturer(1, \"Тех Корп\", \"Электроника\", 1995);\n",
    "manufacturer.ProvideQuote();\n",
    "manufacturer.GetCompanyInfo();\n",
    "\n",
    "Retailer retailer = new Retailer(2, \"Магазин Одежды\", \"Одежда\", \"ул. Главная, 123\");\n",
    "retailer.SubmitOrder();\n",
    "retailer.GetCompanyInfo();\n",
    "\n",
    "Importer importer = new Importer(3, \"Импорт Ко\", \"Мебель\", \"Италия\");\n",
    "importer.GetCompanyInfo();\n",
    "importer.ProvideQuote();\n",
    "    \n"
   ]
  }
 ],
 "metadata": {
  "kernelspec": {
   "display_name": ".NET (C#)",
   "language": "C#",
   "name": ".net-csharp"
  },
  "polyglot_notebook": {
   "kernelInfo": {
    "defaultKernelName": "csharp",
    "items": [
     {
      "aliases": [],
      "languageName": "csharp",
      "name": "csharp"
     }
    ]
   }
  }
 },
 "nbformat": 4,
 "nbformat_minor": 2
}
